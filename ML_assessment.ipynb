{
  "nbformat": 4,
  "nbformat_minor": 0,
  "metadata": {
    "colab": {
      "name": "ML_assessment.ipynb",
      "provenance": [],
      "toc_visible": true,
      "mount_file_id": "1SUebMNG1RRsN53QVpJi-t_D52DegNXlg",
      "authorship_tag": "ABX9TyM63sKQqmlB0rAk87ReBZIN",
      "include_colab_link": true
    },
    "kernelspec": {
      "name": "python3",
      "display_name": "Python 3"
    },
    "language_info": {
      "name": "python"
    }
  },
  "cells": [
    {
      "cell_type": "markdown",
      "metadata": {
        "id": "view-in-github",
        "colab_type": "text"
      },
      "source": [
        "<a href=\"https://colab.research.google.com/github/ProsperChuks/hamoye-stage-b-assessment/blob/main/ML_assessment.ipynb\" target=\"_parent\"><img src=\"https://colab.research.google.com/assets/colab-badge.svg\" alt=\"Open In Colab\"/></a>"
      ]
    },
    {
      "cell_type": "code",
      "metadata": {
        "id": "NHo96Q04Ji2Q"
      },
      "source": [
        "import numpy as np\n",
        "import pandas as pd\n",
        "from sklearn.preprocessing import MinMaxScaler\n",
        "from sklearn.model_selection import train_test_split\n",
        "from sklearn.linear_model import LinearRegression"
      ],
      "execution_count": 85,
      "outputs": []
    },
    {
      "cell_type": "code",
      "metadata": {
        "id": "uY10SVj5K41-"
      },
      "source": [
        "path = '/content/drive/MyDrive/Colab Notebooks/regression/linear/hamoye/energydata_complete.csv'\n",
        "\n",
        "df = pd.read_csv(path)"
      ],
      "execution_count": 86,
      "outputs": []
    },
    {
      "cell_type": "markdown",
      "metadata": {
        "id": "r2m93RFKWUzD"
      },
      "source": [
        "### normalized the dataset"
      ]
    },
    {
      "cell_type": "code",
      "metadata": {
        "id": "5WB5A3VLWUU5"
      },
      "source": [
        "df = df.drop(columns=['date', 'lights'])\n",
        "scale = MinMaxScaler()\n",
        "normalized_df = pd.DataFrame(scale.fit_transform(df), columns=df.columns)\n",
        "predictor = normalized_df.drop(columns=['Appliances'])"
      ],
      "execution_count": 87,
      "outputs": []
    },
    {
      "cell_type": "markdown",
      "metadata": {
        "id": "cxUuam5NYEm_"
      },
      "source": [
        "### splitting the dataset"
      ]
    },
    {
      "cell_type": "code",
      "metadata": {
        "colab": {
          "base_uri": "https://localhost:8080/"
        },
        "id": "gH7oXO0yWhRV",
        "outputId": "02cee684-2f24-40e0-87f2-3a463217c09b"
      },
      "source": [
        "target = normalized_df['Appliances']\n",
        "x_train, x_test, y_train, y_test = train_test_split(predictor, target, test_size=0.33, random_state=42)\n",
        "\n",
        "model = LinearRegression()\n",
        "model.fit(x_train, y_train)\n",
        "\n",
        "prediction = model.predict(x_test)\n",
        "prediction"
      ],
      "execution_count": 88,
      "outputs": [
        {
          "output_type": "execute_result",
          "data": {
            "text/plain": [
              "array([0.03348091, 0.24459154, 0.03247059, ..., 0.06149371, 0.03245236,\n",
              "       0.06696082])"
            ]
          },
          "metadata": {},
          "execution_count": 88
        }
      ]
    },
    {
      "cell_type": "markdown",
      "metadata": {
        "id": "gEQ3PBOadIDg"
      },
      "source": [
        "### evaluating the model"
      ]
    },
    {
      "cell_type": "code",
      "metadata": {
        "colab": {
          "base_uri": "https://localhost:8080/"
        },
        "id": "pPDJBrZydMnO",
        "outputId": "5272f19d-a49e-46ec-b82d-871a64c0b737"
      },
      "source": [
        "from sklearn.metrics import mean_absolute_error, mean_squared_error, r2_score\n",
        "\n",
        "print('Mean Absolute Error')\n",
        "mae = mean_absolute_error(y_test, prediction)\n",
        "print('%.3f'%mae, '\\n')\n",
        "\n",
        "print('Sum of Square Residuals')\n",
        "rss = np.sum(np.square(y_test - prediction))\n",
        "print('%.3f'%rss, '\\n')\n",
        "\n",
        "print('Root Mean Square Error')\n",
        "rmse = np.sqrt(mean_squared_error(y_test, prediction))\n",
        "print('%.3f'%rmse, '\\n')\n",
        "\n",
        "print('R-Squared')\n",
        "r2 = r2_score(y_test, prediction)\n",
        "print('%.3f'%r2)"
      ],
      "execution_count": 89,
      "outputs": [
        {
          "output_type": "stream",
          "name": "stdout",
          "text": [
            "Mean Absolute Error\n",
            "0.050 \n",
            "\n",
            "Sum of Square Residuals\n",
            "50.908 \n",
            "\n",
            "Root Mean Square Error\n",
            "0.088 \n",
            "\n",
            "R-Squared\n",
            "0.146\n"
          ]
        }
      ]
    },
    {
      "cell_type": "markdown",
      "metadata": {
        "id": "MN_p2foypOSj"
      },
      "source": [
        "# Question 12:\n",
        "\n",
        " r-squared in 2dp"
      ]
    },
    {
      "cell_type": "code",
      "metadata": {
        "colab": {
          "base_uri": "https://localhost:8080/"
        },
        "id": "IoRdJRJynTyr",
        "outputId": "37eaacc9-0d36-4752-84be-4b645bb1be63"
      },
      "source": [
        "x = np.array(normalized_df['T2']).reshape(-1, 1)\n",
        "y = normalized_df['T6']\n",
        "\n",
        "lin_model = LinearRegression()\n",
        "lin_model.fit(x, y)\n",
        "pred = lin_model.predict(x)\n",
        "\n",
        "r2 = r2_score(y, pred)\n",
        "print('%.2f'%r2)"
      ],
      "execution_count": 103,
      "outputs": [
        {
          "output_type": "stream",
          "name": "stdout",
          "text": [
            "0.64\n"
          ]
        }
      ]
    },
    {
      "cell_type": "markdown",
      "metadata": {
        "id": "s01wCwSUpSBN"
      },
      "source": [
        "# Question 13: \n",
        "\n",
        "mean absolute error in 2dp"
      ]
    },
    {
      "cell_type": "code",
      "metadata": {
        "colab": {
          "base_uri": "https://localhost:8080/"
        },
        "id": "24ABg2NIpVGy",
        "outputId": "1c9684c9-e33c-46f6-848c-c592a11b3d64"
      },
      "source": [
        "mae = mean_absolute_error(y, pred)\n",
        "print('%.2f'%mae)"
      ],
      "execution_count": 101,
      "outputs": [
        {
          "output_type": "stream",
          "name": "stdout",
          "text": [
            "0.08\n"
          ]
        }
      ]
    },
    {
      "cell_type": "markdown",
      "metadata": {
        "id": "tm4kjiCeprE9"
      },
      "source": [
        "# Question 14: \n",
        "\n",
        "residual sum of squares in 2dp"
      ]
    },
    {
      "cell_type": "code",
      "metadata": {
        "colab": {
          "base_uri": "https://localhost:8080/",
          "height": 35
        },
        "id": "s8LMNR2SpuiC",
        "outputId": "4f49a01f-f483-4b8c-f874-a75c603b5a70"
      },
      "source": [
        "rss = np.sum(np.square(y - pred))\n",
        "'%.2f'%rss"
      ],
      "execution_count": 102,
      "outputs": [
        {
          "output_type": "execute_result",
          "data": {
            "application/vnd.google.colaboratory.intrinsic+json": {
              "type": "string"
            },
            "text/plain": [
              "'222.09'"
            ]
          },
          "metadata": {},
          "execution_count": 102
        }
      ]
    },
    {
      "cell_type": "markdown",
      "metadata": {
        "id": "A8rrzeXDqfn2"
      },
      "source": [
        "# Question 15: \n",
        "\n",
        "root mean squared error in 3dp"
      ]
    },
    {
      "cell_type": "code",
      "metadata": {
        "colab": {
          "base_uri": "https://localhost:8080/",
          "height": 35
        },
        "id": "vM2Uls_5qjGH",
        "outputId": "b325b339-0027-471f-c5b8-954648137c8b"
      },
      "source": [
        "rmse = np.sqrt(mean_squared_error(y, pred))\n",
        "'%.3f'%rmse"
      ],
      "execution_count": 104,
      "outputs": [
        {
          "output_type": "execute_result",
          "data": {
            "application/vnd.google.colaboratory.intrinsic+json": {
              "type": "string"
            },
            "text/plain": [
              "'0.106'"
            ]
          },
          "metadata": {},
          "execution_count": 104
        }
      ]
    },
    {
      "cell_type": "markdown",
      "metadata": {
        "id": "i_TTjdQvroA6"
      },
      "source": [
        "# Question 17"
      ]
    },
    {
      "cell_type": "code",
      "metadata": {
        "colab": {
          "base_uri": "https://localhost:8080/",
          "height": 850
        },
        "id": "6_Razcu-rqsS",
        "outputId": "0b66dce3-d602-47cf-b4b2-8f0476589c61"
      },
      "source": [
        "def get_weights_df(model, feat, col_name):\n",
        "\n",
        "  weight = pd.Series(model.coef_, feat.columns).sort_values()\n",
        "  weights_df = pd.DataFrame(weight).reset_index()\n",
        "  weights_df.columns = ['Features', col_name]\n",
        "  return weights_df\n",
        "\n",
        "linear_model_weights = get_weights_df(model, x_train, 'Linear_Model_Weight')\n",
        "final_weight = pd.DataFrame(linear_model_weights)\n",
        "final_weight"
      ],
      "execution_count": 111,
      "outputs": [
        {
          "output_type": "execute_result",
          "data": {
            "text/html": [
              "<div>\n",
              "<style scoped>\n",
              "    .dataframe tbody tr th:only-of-type {\n",
              "        vertical-align: middle;\n",
              "    }\n",
              "\n",
              "    .dataframe tbody tr th {\n",
              "        vertical-align: top;\n",
              "    }\n",
              "\n",
              "    .dataframe thead th {\n",
              "        text-align: right;\n",
              "    }\n",
              "</style>\n",
              "<table border=\"1\" class=\"dataframe\">\n",
              "  <thead>\n",
              "    <tr style=\"text-align: right;\">\n",
              "      <th></th>\n",
              "      <th>Features</th>\n",
              "      <th>Linear_Model_Weight</th>\n",
              "    </tr>\n",
              "  </thead>\n",
              "  <tbody>\n",
              "    <tr>\n",
              "      <th>0</th>\n",
              "      <td>RH_2</td>\n",
              "      <td>-0.451845</td>\n",
              "    </tr>\n",
              "    <tr>\n",
              "      <th>1</th>\n",
              "      <td>T_out</td>\n",
              "      <td>-0.303950</td>\n",
              "    </tr>\n",
              "    <tr>\n",
              "      <th>2</th>\n",
              "      <td>T2</td>\n",
              "      <td>-0.228149</td>\n",
              "    </tr>\n",
              "    <tr>\n",
              "      <th>3</th>\n",
              "      <td>T9</td>\n",
              "      <td>-0.188451</td>\n",
              "    </tr>\n",
              "    <tr>\n",
              "      <th>4</th>\n",
              "      <td>RH_8</td>\n",
              "      <td>-0.157610</td>\n",
              "    </tr>\n",
              "    <tr>\n",
              "      <th>5</th>\n",
              "      <td>RH_out</td>\n",
              "      <td>-0.068746</td>\n",
              "    </tr>\n",
              "    <tr>\n",
              "      <th>6</th>\n",
              "      <td>RH_9</td>\n",
              "      <td>-0.042429</td>\n",
              "    </tr>\n",
              "    <tr>\n",
              "      <th>7</th>\n",
              "      <td>RH_7</td>\n",
              "      <td>-0.040881</td>\n",
              "    </tr>\n",
              "    <tr>\n",
              "      <th>8</th>\n",
              "      <td>T5</td>\n",
              "      <td>-0.019953</td>\n",
              "    </tr>\n",
              "    <tr>\n",
              "      <th>9</th>\n",
              "      <td>T1</td>\n",
              "      <td>-0.006409</td>\n",
              "    </tr>\n",
              "    <tr>\n",
              "      <th>10</th>\n",
              "      <td>rv2</td>\n",
              "      <td>0.001294</td>\n",
              "    </tr>\n",
              "    <tr>\n",
              "      <th>11</th>\n",
              "      <td>rv1</td>\n",
              "      <td>0.001294</td>\n",
              "    </tr>\n",
              "    <tr>\n",
              "      <th>12</th>\n",
              "      <td>Press_mm_hg</td>\n",
              "      <td>0.007681</td>\n",
              "    </tr>\n",
              "    <tr>\n",
              "      <th>13</th>\n",
              "      <td>T7</td>\n",
              "      <td>0.011978</td>\n",
              "    </tr>\n",
              "    <tr>\n",
              "      <th>14</th>\n",
              "      <td>Visibility</td>\n",
              "      <td>0.012675</td>\n",
              "    </tr>\n",
              "    <tr>\n",
              "      <th>15</th>\n",
              "      <td>RH_5</td>\n",
              "      <td>0.017962</td>\n",
              "    </tr>\n",
              "    <tr>\n",
              "      <th>16</th>\n",
              "      <td>RH_4</td>\n",
              "      <td>0.019470</td>\n",
              "    </tr>\n",
              "    <tr>\n",
              "      <th>17</th>\n",
              "      <td>T4</td>\n",
              "      <td>0.027759</td>\n",
              "    </tr>\n",
              "    <tr>\n",
              "      <th>18</th>\n",
              "      <td>Windspeed</td>\n",
              "      <td>0.030835</td>\n",
              "    </tr>\n",
              "    <tr>\n",
              "      <th>19</th>\n",
              "      <td>RH_6</td>\n",
              "      <td>0.038946</td>\n",
              "    </tr>\n",
              "    <tr>\n",
              "      <th>20</th>\n",
              "      <td>RH_3</td>\n",
              "      <td>0.096614</td>\n",
              "    </tr>\n",
              "    <tr>\n",
              "      <th>21</th>\n",
              "      <td>T8</td>\n",
              "      <td>0.099079</td>\n",
              "    </tr>\n",
              "    <tr>\n",
              "      <th>22</th>\n",
              "      <td>Tdewpoint</td>\n",
              "      <td>0.107951</td>\n",
              "    </tr>\n",
              "    <tr>\n",
              "      <th>23</th>\n",
              "      <td>T6</td>\n",
              "      <td>0.231996</td>\n",
              "    </tr>\n",
              "    <tr>\n",
              "      <th>24</th>\n",
              "      <td>T3</td>\n",
              "      <td>0.295883</td>\n",
              "    </tr>\n",
              "    <tr>\n",
              "      <th>25</th>\n",
              "      <td>RH_1</td>\n",
              "      <td>0.550899</td>\n",
              "    </tr>\n",
              "  </tbody>\n",
              "</table>\n",
              "</div>"
            ],
            "text/plain": [
              "       Features  Linear_Model_Weight\n",
              "0          RH_2            -0.451845\n",
              "1         T_out            -0.303950\n",
              "2            T2            -0.228149\n",
              "3            T9            -0.188451\n",
              "4          RH_8            -0.157610\n",
              "5        RH_out            -0.068746\n",
              "6          RH_9            -0.042429\n",
              "7          RH_7            -0.040881\n",
              "8            T5            -0.019953\n",
              "9            T1            -0.006409\n",
              "10          rv2             0.001294\n",
              "11          rv1             0.001294\n",
              "12  Press_mm_hg             0.007681\n",
              "13           T7             0.011978\n",
              "14   Visibility             0.012675\n",
              "15         RH_5             0.017962\n",
              "16         RH_4             0.019470\n",
              "17           T4             0.027759\n",
              "18    Windspeed             0.030835\n",
              "19         RH_6             0.038946\n",
              "20         RH_3             0.096614\n",
              "21           T8             0.099079\n",
              "22    Tdewpoint             0.107951\n",
              "23           T6             0.231996\n",
              "24           T3             0.295883\n",
              "25         RH_1             0.550899"
            ]
          },
          "metadata": {},
          "execution_count": 111
        }
      ]
    },
    {
      "cell_type": "markdown",
      "metadata": {
        "id": "Qzg7XdoWt1pF"
      },
      "source": [
        "# Question 18"
      ]
    },
    {
      "cell_type": "code",
      "metadata": {
        "colab": {
          "base_uri": "https://localhost:8080/"
        },
        "id": "ynuiP9Jet5gN",
        "outputId": "89bfe1ba-e01f-43a5-c33d-f138c24b5d98"
      },
      "source": [
        "from sklearn.linear_model import Ridge\n",
        "\n",
        "ridge_reg = Ridge(alpha=0.4)\n",
        "ridge_reg.fit(x_train, y_train)\n",
        "\n",
        "predict = ridge_reg.predict(x_test)\n",
        "\n",
        "rmse = np.sqrt(mean_squared_error(y_test, predict))\n",
        "print('%.3f'%rmse)"
      ],
      "execution_count": 112,
      "outputs": [
        {
          "output_type": "stream",
          "name": "stdout",
          "text": [
            "0.088\n"
          ]
        }
      ]
    },
    {
      "cell_type": "markdown",
      "metadata": {
        "id": "00_7RXCuulVO"
      },
      "source": [
        "# Question 19"
      ]
    },
    {
      "cell_type": "code",
      "metadata": {
        "colab": {
          "base_uri": "https://localhost:8080/",
          "height": 850
        },
        "id": "OO4kRs0bunId",
        "outputId": "9e60943c-e003-4748-c358-227f83552034"
      },
      "source": [
        "from sklearn.linear_model import Lasso\n",
        "\n",
        "lasso_reg = Lasso(alpha=0.001)\n",
        "lasso_reg.fit(x_train, y_train)\n",
        "\n",
        "def get_weights_df(model, feat, col_name):\n",
        "\n",
        "  weight = pd.Series(model.coef_, feat.columns).sort_values()\n",
        "  weights_df = pd.DataFrame(weight).reset_index()\n",
        "  weights_df.columns = ['Features', col_name]\n",
        "  return weights_df\n",
        "\n",
        "lasso_reg_weights = get_weights_df(lasso_reg, x_train, 'Lasso_Weight')\n",
        "final_weight = pd.DataFrame(lasso_reg_weights)\n",
        "final_weight"
      ],
      "execution_count": 113,
      "outputs": [
        {
          "output_type": "execute_result",
          "data": {
            "text/html": [
              "<div>\n",
              "<style scoped>\n",
              "    .dataframe tbody tr th:only-of-type {\n",
              "        vertical-align: middle;\n",
              "    }\n",
              "\n",
              "    .dataframe tbody tr th {\n",
              "        vertical-align: top;\n",
              "    }\n",
              "\n",
              "    .dataframe thead th {\n",
              "        text-align: right;\n",
              "    }\n",
              "</style>\n",
              "<table border=\"1\" class=\"dataframe\">\n",
              "  <thead>\n",
              "    <tr style=\"text-align: right;\">\n",
              "      <th></th>\n",
              "      <th>Features</th>\n",
              "      <th>Lasso_Weight</th>\n",
              "    </tr>\n",
              "  </thead>\n",
              "  <tbody>\n",
              "    <tr>\n",
              "      <th>0</th>\n",
              "      <td>RH_out</td>\n",
              "      <td>-0.048942</td>\n",
              "    </tr>\n",
              "    <tr>\n",
              "      <th>1</th>\n",
              "      <td>RH_8</td>\n",
              "      <td>-0.000448</td>\n",
              "    </tr>\n",
              "    <tr>\n",
              "      <th>2</th>\n",
              "      <td>T1</td>\n",
              "      <td>0.000000</td>\n",
              "    </tr>\n",
              "    <tr>\n",
              "      <th>3</th>\n",
              "      <td>Tdewpoint</td>\n",
              "      <td>0.000000</td>\n",
              "    </tr>\n",
              "    <tr>\n",
              "      <th>4</th>\n",
              "      <td>Visibility</td>\n",
              "      <td>0.000000</td>\n",
              "    </tr>\n",
              "    <tr>\n",
              "      <th>5</th>\n",
              "      <td>Press_mm_hg</td>\n",
              "      <td>-0.000000</td>\n",
              "    </tr>\n",
              "    <tr>\n",
              "      <th>6</th>\n",
              "      <td>T_out</td>\n",
              "      <td>0.000000</td>\n",
              "    </tr>\n",
              "    <tr>\n",
              "      <th>7</th>\n",
              "      <td>RH_9</td>\n",
              "      <td>-0.000000</td>\n",
              "    </tr>\n",
              "    <tr>\n",
              "      <th>8</th>\n",
              "      <td>T9</td>\n",
              "      <td>-0.000000</td>\n",
              "    </tr>\n",
              "    <tr>\n",
              "      <th>9</th>\n",
              "      <td>T8</td>\n",
              "      <td>0.000000</td>\n",
              "    </tr>\n",
              "    <tr>\n",
              "      <th>10</th>\n",
              "      <td>RH_7</td>\n",
              "      <td>-0.000000</td>\n",
              "    </tr>\n",
              "    <tr>\n",
              "      <th>11</th>\n",
              "      <td>rv1</td>\n",
              "      <td>0.000000</td>\n",
              "    </tr>\n",
              "    <tr>\n",
              "      <th>12</th>\n",
              "      <td>T7</td>\n",
              "      <td>-0.000000</td>\n",
              "    </tr>\n",
              "    <tr>\n",
              "      <th>13</th>\n",
              "      <td>T6</td>\n",
              "      <td>0.000000</td>\n",
              "    </tr>\n",
              "    <tr>\n",
              "      <th>14</th>\n",
              "      <td>RH_5</td>\n",
              "      <td>0.000000</td>\n",
              "    </tr>\n",
              "    <tr>\n",
              "      <th>15</th>\n",
              "      <td>T5</td>\n",
              "      <td>-0.000000</td>\n",
              "    </tr>\n",
              "    <tr>\n",
              "      <th>16</th>\n",
              "      <td>RH_4</td>\n",
              "      <td>0.000000</td>\n",
              "    </tr>\n",
              "    <tr>\n",
              "      <th>17</th>\n",
              "      <td>T4</td>\n",
              "      <td>-0.000000</td>\n",
              "    </tr>\n",
              "    <tr>\n",
              "      <th>18</th>\n",
              "      <td>RH_3</td>\n",
              "      <td>0.000000</td>\n",
              "    </tr>\n",
              "    <tr>\n",
              "      <th>19</th>\n",
              "      <td>T3</td>\n",
              "      <td>0.000000</td>\n",
              "    </tr>\n",
              "    <tr>\n",
              "      <th>20</th>\n",
              "      <td>RH_2</td>\n",
              "      <td>-0.000000</td>\n",
              "    </tr>\n",
              "    <tr>\n",
              "      <th>21</th>\n",
              "      <td>T2</td>\n",
              "      <td>0.000000</td>\n",
              "    </tr>\n",
              "    <tr>\n",
              "      <th>22</th>\n",
              "      <td>RH_6</td>\n",
              "      <td>-0.000000</td>\n",
              "    </tr>\n",
              "    <tr>\n",
              "      <th>23</th>\n",
              "      <td>rv2</td>\n",
              "      <td>0.000000</td>\n",
              "    </tr>\n",
              "    <tr>\n",
              "      <th>24</th>\n",
              "      <td>Windspeed</td>\n",
              "      <td>0.003273</td>\n",
              "    </tr>\n",
              "    <tr>\n",
              "      <th>25</th>\n",
              "      <td>RH_1</td>\n",
              "      <td>0.017614</td>\n",
              "    </tr>\n",
              "  </tbody>\n",
              "</table>\n",
              "</div>"
            ],
            "text/plain": [
              "       Features  Lasso_Weight\n",
              "0        RH_out     -0.048942\n",
              "1          RH_8     -0.000448\n",
              "2            T1      0.000000\n",
              "3     Tdewpoint      0.000000\n",
              "4    Visibility      0.000000\n",
              "5   Press_mm_hg     -0.000000\n",
              "6         T_out      0.000000\n",
              "7          RH_9     -0.000000\n",
              "8            T9     -0.000000\n",
              "9            T8      0.000000\n",
              "10         RH_7     -0.000000\n",
              "11          rv1      0.000000\n",
              "12           T7     -0.000000\n",
              "13           T6      0.000000\n",
              "14         RH_5      0.000000\n",
              "15           T5     -0.000000\n",
              "16         RH_4      0.000000\n",
              "17           T4     -0.000000\n",
              "18         RH_3      0.000000\n",
              "19           T3      0.000000\n",
              "20         RH_2     -0.000000\n",
              "21           T2      0.000000\n",
              "22         RH_6     -0.000000\n",
              "23          rv2      0.000000\n",
              "24    Windspeed      0.003273\n",
              "25         RH_1      0.017614"
            ]
          },
          "metadata": {},
          "execution_count": 113
        }
      ]
    },
    {
      "cell_type": "markdown",
      "metadata": {
        "id": "vPCEE888vYRw"
      },
      "source": [
        "# Question 20"
      ]
    },
    {
      "cell_type": "code",
      "metadata": {
        "colab": {
          "base_uri": "https://localhost:8080/"
        },
        "id": "sr2-I-y_vaB-",
        "outputId": "163f0cd6-0f07-411f-d4a4-f29cf57cd4ae"
      },
      "source": [
        "predict = lasso_reg.predict(x_test)\n",
        "\n",
        "rmse = np.sqrt(mean_squared_error(y_test, predict))\n",
        "print('%.3f'%rmse)"
      ],
      "execution_count": 114,
      "outputs": [
        {
          "output_type": "stream",
          "name": "stdout",
          "text": [
            "0.094\n"
          ]
        }
      ]
    }
  ]
}